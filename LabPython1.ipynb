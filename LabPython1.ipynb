{
  "nbformat": 4,
  "nbformat_minor": 0,
  "metadata": {
    "colab": {
      "provenance": [],
      "toc_visible": true,
      "authorship_tag": "ABX9TyO9gdfmV5TgdRP5bpB6TPw+",
      "include_colab_link": true
    },
    "kernelspec": {
      "name": "python3",
      "display_name": "Python 3"
    },
    "language_info": {
      "name": "python"
    }
  },
  "cells": [
    {
      "cell_type": "markdown",
      "metadata": {
        "id": "view-in-github",
        "colab_type": "text"
      },
      "source": [
        "<a href=\"https://colab.research.google.com/github/CamiloGF-Codes/LabPython_Paralela/blob/main/LabPython1.ipynb\" target=\"_parent\"><img src=\"https://colab.research.google.com/assets/colab-badge.svg\" alt=\"Open In Colab\"/></a>"
      ]
    },
    {
      "cell_type": "code",
      "source": [
        "import threading\n",
        "import random\n",
        "import time"
      ],
      "metadata": {
        "id": "N2yeTs-Ti4Ub"
      },
      "execution_count": null,
      "outputs": []
    },
    {
      "cell_type": "code",
      "source": [
        "def ordena_subvector(subvector, hilo):\n",
        "  tiempo_inicio = time.time()\n",
        "  subvector.sort()\n",
        "  print(subvector)\n",
        "  tiempo_fin = time.time()\n",
        "  tiempo_ejecucion= tiempo_fin - tiempo_inicio\n",
        "  print(f\"Hilo {hilo}: Subvector ordenado (Tiempo: {tiempo_ejecucion} segundos)\")\n",
        "  return tiempo_ejecucion"
      ],
      "metadata": {
        "id": "nrhvjrXOi6ey"
      },
      "execution_count": null,
      "outputs": []
    },
    {
      "cell_type": "code",
      "source": [
        "def dividir_vector(vector, num_hilos):\n",
        "  longitud_subvector = len(vector) //num_hilos\n",
        "  subvectores = [vector[i:i+longitud_subvector] for i in range(0, len(vector),longitud_subvector)]\n",
        "  return subvectores"
      ],
      "metadata": {
        "id": "UDw4EZLEi_HL"
      },
      "execution_count": null,
      "outputs": []
    },
    {
      "cell_type": "code",
      "source": [
        "def unir_vectores(subvectores):\n",
        "    vector_ordenado = [num for subvector in subvectores for num in subvector]\n",
        "    return vector_ordenado"
      ],
      "metadata": {
        "id": "Dz9e__ZUjA4q"
      },
      "execution_count": null,
      "outputs": []
    },
    {
      "cell_type": "code",
      "source": [
        "def ordenar_vector(vector, num_hilos):\n",
        "    subvectores = dividir_vector(vector, num_hilos)\n",
        "    threads = []\n",
        "\n",
        "    for i, subvector in enumerate(subvectores):\n",
        "        thread = threading.Thread(target=ordena_subvector, args=(subvector, i))\n",
        "        thread.start()\n",
        "        threads.append(thread)\n",
        "    for thread in threads:\n",
        "        thread.join()\n",
        "    vector_ordenado = unir_vectores(subvectores)\n",
        "    vector_ordenado.sort()\n",
        "    print(f\"Vector ordenado final: {vector_ordenado}\")"
      ],
      "metadata": {
        "id": "A-fQp4LrjCkq"
      },
      "execution_count": null,
      "outputs": []
    },
    {
      "cell_type": "code",
      "source": [
        "num_hilos = int(input(\"Ingrese la cantidad de hilos: \"))\n",
        "tiempo_inicio = time.time()\n",
        "ordenar_vector(vector=vector_grande, num_hilos=num_hilos)\n",
        "tiempo_fin = time.time()\n",
        "tiempo_ejecucion= tiempo_fin - tiempo_inicio\n",
        "print(f\"Tiempo de total: {tiempo_ejecucion} segundos\")"
      ],
      "metadata": {
        "id": "Q0XlUtGOjGAE"
      },
      "execution_count": null,
      "outputs": []
    }
  ]
}